{
  "nbformat": 4,
  "nbformat_minor": 0,
  "metadata": {
    "colab": {
      "provenance": []
    },
    "kernelspec": {
      "name": "python3",
      "display_name": "Python 3"
    },
    "language_info": {
      "name": "python"
    }
  },
  "cells": [
    {
      "cell_type": "code",
      "execution_count": null,
      "metadata": {
        "id": "Gxx3jYbRzUrn"
      },
      "outputs": [],
      "source": [
        "#Write a Python program to check if a given number is positive or negative."
      ]
    },
    {
      "cell_type": "code",
      "source": [
        "def check_positive_or_negative(num):\n",
        "    if num > 0:\n",
        "        print(\"The number is positive.\")\n",
        "    elif num < 0:\n",
        "        print(\"The number is negative.\")\n",
        "    else:\n",
        "        print(\"The number is zero.\")\n",
        "\n",
        "# Test the function with a user input\n",
        "try:\n",
        "    num = float(input(\"Enter a number: \"))\n",
        "    check_positive_or_negative(num)\n",
        "except ValueError:\n",
        "    print(\"Invalid input. Please enter a valid number.\")\n"
      ],
      "metadata": {
        "colab": {
          "base_uri": "https://localhost:8080/"
        },
        "id": "dSMF-0UezbPZ",
        "outputId": "b43da941-107d-40bc-f986-dd94ec3e3d41"
      },
      "execution_count": null,
      "outputs": [
        {
          "output_type": "stream",
          "name": "stdout",
          "text": [
            "Enter a number: 20\n",
            "The number is positive.\n"
          ]
        }
      ]
    },
    {
      "cell_type": "code",
      "source": [
        "#Create a program that determines if a person is eligible to vote based on their age."
      ],
      "metadata": {
        "id": "y_9TJwp9zfnk"
      },
      "execution_count": null,
      "outputs": []
    },
    {
      "cell_type": "code",
      "source": [
        "def check_voting_eligibility(age):\n",
        "    if age >= 18:\n",
        "        print(\"You are eligible to vote.\")\n",
        "    else:\n",
        "        print(\"You are not eligible to vote yet.\")\n",
        "\n",
        "# Test the function with user input\n",
        "try:\n",
        "    age = int(input(\"Enter your age: \"))\n",
        "    if age < 0:\n",
        "        print(\"Invalid age. Please enter a positive number.\")\n",
        "    else:\n",
        "        check_voting_eligibility(age)\n",
        "except ValueError:\n",
        "    print(\"Invalid input. Please enter a valid age (a positive integer).\")\n"
      ],
      "metadata": {
        "colab": {
          "base_uri": "https://localhost:8080/"
        },
        "id": "TwlaFoH4zkHq",
        "outputId": "b698e1a5-4d21-4e10-d175-8fb9c16f9640"
      },
      "execution_count": null,
      "outputs": [
        {
          "output_type": "stream",
          "name": "stdout",
          "text": [
            "Enter your age: 24\n",
            "You are eligible to vote.\n"
          ]
        }
      ]
    },
    {
      "cell_type": "code",
      "source": [
        "#Develop a program to find the maximum of two numbers using if-else statements."
      ],
      "metadata": {
        "id": "_8mqvx_zzpha"
      },
      "execution_count": null,
      "outputs": []
    },
    {
      "cell_type": "code",
      "source": [
        "def find_maximum(num1, num2):\n",
        "    if num1 > num2:\n",
        "        return num1\n",
        "    else:\n",
        "        return num2\n",
        "\n",
        "# Test the function with user input\n",
        "try:\n",
        "    num1 = float(input(\"Enter the first number: \"))\n",
        "    num2 = float(input(\"Enter the second number: \"))\n",
        "    maximum = find_maximum(num1, num2)\n",
        "    print(\"The maximum of the two numbers is:\", maximum)\n",
        "except ValueError:\n",
        "    print(\"Invalid input. Please enter valid numbers.\")\n"
      ],
      "metadata": {
        "colab": {
          "base_uri": "https://localhost:8080/"
        },
        "id": "cz9K8mHFzt8I",
        "outputId": "5bf15bd6-3157-453c-9b4d-e229c281d087"
      },
      "execution_count": null,
      "outputs": [
        {
          "output_type": "stream",
          "name": "stdout",
          "text": [
            "Enter the first number: 52\n",
            "Enter the second number: 36\n",
            "The maximum of the two numbers is: 52.0\n"
          ]
        }
      ]
    },
    {
      "cell_type": "code",
      "source": [
        "#Write a Python script to classify a given year as a leap year or not."
      ],
      "metadata": {
        "id": "rT2bK0khzxnv"
      },
      "execution_count": null,
      "outputs": []
    },
    {
      "cell_type": "code",
      "source": [
        "def is_leap_year(year):\n",
        "    if (year % 4 == 0 and year % 100 != 0) or (year % 400 == 0):\n",
        "        return True\n",
        "    else:\n",
        "        return False\n",
        "\n",
        "# Test the function with user input\n",
        "try:\n",
        "    year = int(input(\"Enter a year: \"))\n",
        "    if year < 0:\n",
        "        print(\"Invalid input. Please enter a positive number.\")\n",
        "    else:\n",
        "        if is_leap_year(year):\n",
        "            print(year, \"is a leap year.\")\n",
        "        else:\n",
        "            print(year, \"is not a leap year.\")\n",
        "except ValueError:\n",
        "    print(\"Invalid input. Please enter a valid year (an integer).\")\n"
      ],
      "metadata": {
        "colab": {
          "base_uri": "https://localhost:8080/"
        },
        "id": "HSc7vllxz5M4",
        "outputId": "9c7225c1-a543-4181-8f04-6b00fd2ad9c8"
      },
      "execution_count": null,
      "outputs": [
        {
          "output_type": "stream",
          "name": "stdout",
          "text": [
            "Enter a year: 1972\n",
            "1972 is a leap year.\n"
          ]
        }
      ]
    },
    {
      "cell_type": "code",
      "source": [
        "#Create a program that checks whether a character is a vowel or a consonant."
      ],
      "metadata": {
        "id": "gZZgTlPcz9IC"
      },
      "execution_count": null,
      "outputs": []
    },
    {
      "cell_type": "code",
      "source": [
        "def check_vowel_or_consonant(character):\n",
        "    vowels = \"aeiouAEIOU\"\n",
        "    if character.isalpha() and len(character) == 1:\n",
        "        if character in vowels:\n",
        "            print(f\"The character '{character}' is a vowel.\")\n",
        "        else:\n",
        "            print(f\"The character '{character}' is a consonant.\")\n",
        "    else:\n",
        "        print(\"Invalid input. Please enter a single alphabetic character.\")\n",
        "\n",
        "# Test the function with user input\n",
        "try:\n",
        "    char = input(\"Enter a character: \")\n",
        "    check_vowel_or_consonant(char)\n",
        "except ValueError:\n",
        "    print(\"Invalid input. Please enter a valid character.\")\n"
      ],
      "metadata": {
        "colab": {
          "base_uri": "https://localhost:8080/"
        },
        "id": "n5aU5p680D6B",
        "outputId": "d1c998ce-dc6a-4e0b-8974-27440fa1e165"
      },
      "execution_count": null,
      "outputs": [
        {
          "output_type": "stream",
          "name": "stdout",
          "text": [
            "Enter a character: joker\n",
            "Invalid input. Please enter a single alphabetic character.\n"
          ]
        }
      ]
    },
    {
      "cell_type": "code",
      "source": [
        "#Implement a program to determine whether a given number is even or odd."
      ],
      "metadata": {
        "id": "FlhxaJMe0JPJ"
      },
      "execution_count": null,
      "outputs": []
    },
    {
      "cell_type": "code",
      "source": [
        "def check_even_or_odd(number):\n",
        "    if number % 2 == 0:\n",
        "        print(f\"The number {number} is even.\")\n",
        "    else:\n",
        "        print(f\"The number {number} is odd.\")\n",
        "\n",
        "# Test the function with user input\n",
        "try:\n",
        "    num = int(input(\"Enter a number: \"))\n",
        "    check_even_or_odd(num)\n",
        "except ValueError:\n",
        "    print(\"Invalid input. Please enter a valid number.\")\n"
      ],
      "metadata": {
        "colab": {
          "base_uri": "https://localhost:8080/"
        },
        "id": "abSaWqIQ0UFM",
        "outputId": "daa9080b-ce09-4952-bbef-c79e641029dc"
      },
      "execution_count": null,
      "outputs": [
        {
          "output_type": "stream",
          "name": "stdout",
          "text": [
            "Enter a number: 20\n",
            "The number 20 is even.\n"
          ]
        }
      ]
    },
    {
      "cell_type": "code",
      "source": [
        "#Write a Python function to calculate the absolute value of a number without using the `abs()` function."
      ],
      "metadata": {
        "id": "RQ0Epn370YGq"
      },
      "execution_count": null,
      "outputs": []
    },
    {
      "cell_type": "code",
      "source": [
        "def absolute_value(num):\n",
        "    if num < 0:\n",
        "        return -num\n",
        "    else:\n",
        "        return num\n",
        "\n",
        "# Test the function with user input\n",
        "try:\n",
        "    num = float(input(\"Enter a number: \"))\n",
        "    print(\"The absolute value of\", num, \"is\", absolute_value(num))\n",
        "except ValueError:\n",
        "    print(\"Invalid input. Please enter a valid number.\")\n"
      ],
      "metadata": {
        "colab": {
          "base_uri": "https://localhost:8080/"
        },
        "id": "mwAts2og0ct_",
        "outputId": "64616234-9a6c-4a54-bc28-55b090ea89c1"
      },
      "execution_count": null,
      "outputs": [
        {
          "output_type": "stream",
          "name": "stdout",
          "text": [
            "Enter a number: 36\n",
            "The absolute value of 36.0 is 36.0\n"
          ]
        }
      ]
    },
    {
      "cell_type": "code",
      "source": [
        "#Develop a program that determines the largest of three given numbers using if-else statements."
      ],
      "metadata": {
        "id": "aQpmViz40hDw"
      },
      "execution_count": null,
      "outputs": []
    },
    {
      "cell_type": "code",
      "source": [
        "def find_largest(num1, num2, num3):\n",
        "    if num1 >= num2 and num1 >= num3:\n",
        "        return num1\n",
        "    elif num2 >= num1 and num2 >= num3:\n",
        "        return num2\n",
        "    else:\n",
        "        return num3\n",
        "\n",
        "# Test the function with user input\n",
        "try:\n",
        "    num1 = float(input(\"Enter the first number: \"))\n",
        "    num2 = float(input(\"Enter the second number: \"))\n",
        "    num3 = float(input(\"Enter the third number: \"))\n",
        "    largest = find_largest(num1, num2, num3)\n",
        "    print(\"The largest of the three numbers is:\", largest)\n",
        "except ValueError:\n",
        "    print(\"Invalid input. Please enter valid numbers.\")\n",
        "\n"
      ],
      "metadata": {
        "colab": {
          "base_uri": "https://localhost:8080/"
        },
        "id": "jy93mAN00mBF",
        "outputId": "b9dd5688-7054-416e-9836-e467845d988e"
      },
      "execution_count": null,
      "outputs": [
        {
          "output_type": "stream",
          "name": "stdout",
          "text": [
            "Enter the first number: 35\n",
            "Enter the second number: 45\n",
            "Enter the third number: 65\n",
            "The largest of the three numbers is: 65.0\n"
          ]
        }
      ]
    },
    {
      "cell_type": "code",
      "source": [
        "#Create a program that checks if a given string is a palindrome."
      ],
      "metadata": {
        "id": "ZUh-BEBR0pQC"
      },
      "execution_count": null,
      "outputs": []
    },
    {
      "cell_type": "code",
      "source": [
        "def is_palindrome(string):\n",
        "    # Convert the string to lowercase and remove spaces\n",
        "    clean_string = string.lower().replace(\" \", \"\")\n",
        "    # Check if the string is equal to its reverse\n",
        "    return clean_string == clean_string[::-1]\n",
        "\n",
        "# Test the function with user input\n",
        "try:\n",
        "    user_input = input(\"Enter a string: \")\n",
        "    if is_palindrome(user_input):\n",
        "        print(\"The string is a palindrome.\")\n",
        "    else:\n",
        "        print(\"The string is not a palindrome.\")\n",
        "except ValueError:\n",
        "    print(\"Invalid input. Please enter a valid string.\")\n"
      ],
      "metadata": {
        "colab": {
          "base_uri": "https://localhost:8080/"
        },
        "id": "uO9Ut8KC01mM",
        "outputId": "466e313f-d93b-4971-8750-2108ab163eec"
      },
      "execution_count": null,
      "outputs": [
        {
          "output_type": "stream",
          "name": "stdout",
          "text": [
            "Enter a string: mera naam hai joker\n",
            "The string is not a palindrome.\n"
          ]
        }
      ]
    },
    {
      "cell_type": "code",
      "source": [
        "#Write a Python program to calculate the grade based on a student's score."
      ],
      "metadata": {
        "id": "AEI9p6K205yl"
      },
      "execution_count": null,
      "outputs": []
    },
    {
      "cell_type": "code",
      "source": [
        "def calculate_grade(score):\n",
        "    if score >= 90:\n",
        "        return \"A\"\n",
        "    elif score >= 80:\n",
        "        return \"B\"\n",
        "    elif score >= 70:\n",
        "        return \"C\"\n",
        "    elif score >= 60:\n",
        "        return \"D\"\n",
        "    else:\n",
        "        return \"F\"\n",
        "\n",
        "# Test the function with user input\n",
        "try:\n",
        "    score = float(input(\"Enter the student's score: \"))\n",
        "    if score < 0 or score > 100:\n",
        "        print(\"Invalid score. Please enter a score between 0 and 100.\")\n",
        "    else:\n",
        "        grade = calculate_grade(score)\n",
        "        print(\"The student's grade is:\", grade)\n",
        "except ValueError:\n",
        "    print(\"Invalid input. Please enter a valid score.\")\n"
      ],
      "metadata": {
        "colab": {
          "base_uri": "https://localhost:8080/"
        },
        "id": "itJ-tObv1Ddt",
        "outputId": "4ce49493-0694-400c-8be3-8b6109061b5b"
      },
      "execution_count": null,
      "outputs": [
        {
          "output_type": "stream",
          "name": "stdout",
          "text": [
            "Enter the student's score: 23\n",
            "The student's grade is: F\n"
          ]
        }
      ]
    },
    {
      "cell_type": "code",
      "source": [
        "#Write a program to find the largest among three numbers using nested if-else statements."
      ],
      "metadata": {
        "id": "T8PjC8St1Jpa"
      },
      "execution_count": null,
      "outputs": []
    },
    {
      "cell_type": "code",
      "source": [
        "def find_largest(num1, num2, num3):\n",
        "    if num1 >= num2:\n",
        "        if num1 >= num3:\n",
        "            return num1\n",
        "        else:\n",
        "            return num3\n",
        "    else:\n",
        "        if num2 >= num3:\n",
        "            return num2\n",
        "        else:\n",
        "            return num3\n",
        "\n",
        "# Test the function with user input\n",
        "try:\n",
        "    num1 = float(input(\"Enter the first number: \"))\n",
        "    num2 = float(input(\"Enter the second number: \"))\n",
        "    num3 = float(input(\"Enter the third number: \"))\n",
        "    largest = find_largest(num1, num2, num3)\n",
        "    print(\"The largest of the three numbers is:\", largest)\n",
        "except ValueError:\n",
        "    print(\"Invalid input. Please enter valid numbers.\")\n"
      ],
      "metadata": {
        "colab": {
          "base_uri": "https://localhost:8080/"
        },
        "id": "t02E4VO21YEs",
        "outputId": "e631c5cf-c372-496b-af87-8781a7439f7d"
      },
      "execution_count": null,
      "outputs": [
        {
          "output_type": "stream",
          "name": "stdout",
          "text": [
            "Enter the first number: 1\n",
            "Enter the second number: 6\n",
            "Enter the third number: 9\n",
            "The largest of the three numbers is: 9.0\n"
          ]
        }
      ]
    },
    {
      "cell_type": "code",
      "source": [
        "def find_largest(num1, num2, num3):\n",
        "    if num1 >= num2:\n",
        "        if num1 >= num3:\n",
        "            return num1\n",
        "        else:\n",
        "            return num3\n",
        "    else:\n",
        "        if num2 >= num3:\n",
        "            return num2\n",
        "        else:\n",
        "            return num3\n",
        "\n",
        "# Test the function with user input\n",
        "try:\n",
        "    num1 = float(input(\"Enter the first number: \"))\n",
        "    num2 = float(input(\"Enter the second number: \"))\n",
        "    num3 = float(input(\"Enter the third number: \"))\n",
        "    largest = find_largest(num1, num2, num3)\n",
        "    print(\"The largest of the three numbers is:\", largest)\n",
        "except ValueError:\n",
        "    print(\"Invalid input. Please enter valid numbers.\")\n",
        "\n"
      ],
      "metadata": {
        "colab": {
          "base_uri": "https://localhost:8080/"
        },
        "id": "CWLM_0_o1dCs",
        "outputId": "9ec6e27e-ebe4-4432-d087-e2a8a9d00174"
      },
      "execution_count": null,
      "outputs": [
        {
          "output_type": "stream",
          "name": "stdout",
          "text": [
            "Enter the first number: 36\n",
            "Enter the second number: 5\n",
            "Enter the third number: 45\n",
            "The largest of the three numbers is: 45.0\n"
          ]
        }
      ]
    },
    {
      "cell_type": "code",
      "source": [
        "#Implement a program to determine if a triangle is equilateral, isosceles, or scalene."
      ],
      "metadata": {
        "id": "B7DC19DM1kc9"
      },
      "execution_count": null,
      "outputs": []
    },
    {
      "cell_type": "code",
      "source": [
        "def triangle_type(side1, side2, side3):\n",
        "    if side1 == side2 == side3:\n",
        "        return \"Equilateral\"\n",
        "    elif side1 == side2 or side1 == side3 or side2 == side3:\n",
        "        return \"Isosceles\"\n",
        "    else:\n",
        "        return \"Scalene\"\n",
        "\n",
        "# Test the function with user input\n",
        "try:\n",
        "    side1 = float(input(\"Enter the length of the first side: \"))\n",
        "    side2 = float(input(\"Enter the length of the second side: \"))\n",
        "    side3 = float(input(\"Enter the length of the third side: \"))\n",
        "\n",
        "    if side1 <= 0 or side2 <= 0 or side3 <= 0:\n",
        "        print(\"Invalid input. All side lengths must be positive.\")\n",
        "    elif side1 + side2 <= side3 or side1 + side3 <= side2 or side2 + side3 <= side1:\n",
        "        print(\"Invalid input. The sum of the lengths of any two sides must be greater than the length of the third side.\")\n",
        "    else:\n",
        "        triangle = triangle_type(side1, side2, side3)\n",
        "        print(\"The triangle is\", triangle)\n",
        "except ValueError:\n",
        "    print(\"Invalid input. Please enter valid side lengths.\")\n"
      ],
      "metadata": {
        "colab": {
          "base_uri": "https://localhost:8080/"
        },
        "id": "4UlZe9nT1yTe",
        "outputId": "1209e6a5-efeb-4c57-f785-9312e9c24b55"
      },
      "execution_count": null,
      "outputs": [
        {
          "output_type": "stream",
          "name": "stdout",
          "text": [
            "Enter the length of the first side: 50\n",
            "Enter the length of the second side: 25\n",
            "Enter the length of the third side: 60\n",
            "The triangle is Scalene\n"
          ]
        }
      ]
    },
    {
      "cell_type": "code",
      "source": [
        "#Develop a program that checks if a year is a leap year and also if it is a century year."
      ],
      "metadata": {
        "id": "RHLj2l7E12_x"
      },
      "execution_count": null,
      "outputs": []
    },
    {
      "cell_type": "code",
      "source": [
        "def is_leap_year(year):\n",
        "    if (year % 4 == 0 and year % 100 != 0) or (year % 400 == 0):\n",
        "        return True\n",
        "    else:\n",
        "        return False\n",
        "\n",
        "def is_century_year(year):\n",
        "    if year % 100 == 0:\n",
        "        return True\n",
        "    else:\n",
        "        return False\n",
        "\n",
        "# Test the functions with user input\n",
        "try:\n",
        "    year = int(input(\"Enter a year: \"))\n",
        "\n",
        "    if year < 0:\n",
        "        print(\"Invalid year. Please enter a positive number.\")\n",
        "    else:\n",
        "        if is_leap_year(year):\n",
        "            print(year, \"is a leap year.\")\n",
        "        else:\n",
        "            print(year, \"is not a leap year.\")\n",
        "\n",
        "        if is_century_year(year):\n",
        "            print(year, \"is a century year.\")\n",
        "        else:\n",
        "            print(year, \"is not a century year.\")\n",
        "except ValueError:\n",
        "    print(\"Invalid input. Please enter a valid year (an integer).\")\n"
      ],
      "metadata": {
        "colab": {
          "base_uri": "https://localhost:8080/"
        },
        "id": "4Xjg4tri2D8d",
        "outputId": "87e55065-fda5-4b2d-85f1-17f47cf10321"
      },
      "execution_count": null,
      "outputs": [
        {
          "output_type": "stream",
          "name": "stdout",
          "text": [
            "Enter a year: 1948\n",
            "1948 is a leap year.\n",
            "1948 is not a century year.\n"
          ]
        }
      ]
    },
    {
      "cell_type": "code",
      "source": [
        "#Write a Python script to determine if a number is positive, negative, or zero."
      ],
      "metadata": {
        "id": "ie6D9rHw2J4m"
      },
      "execution_count": null,
      "outputs": []
    },
    {
      "cell_type": "code",
      "source": [
        "def check_number(number):\n",
        "    if number > 0:\n",
        "        return \"positive\"\n",
        "    elif number < 0:\n",
        "        return \"negative\"\n",
        "    else:\n",
        "        return \"zero\"\n",
        "\n",
        "# Test the function with user input\n",
        "try:\n",
        "    num = float(input(\"Enter a number: \"))\n",
        "    result = check_number(num)\n",
        "    print(\"The number is\", result)\n",
        "except ValueError:\n",
        "    print(\"Invalid input. Please enter a valid number.\")\n"
      ],
      "metadata": {
        "colab": {
          "base_uri": "https://localhost:8080/"
        },
        "id": "dtxXGqjS2Z0T",
        "outputId": "80cf7758-0622-4795-ac2a-9d2716f73ba0"
      },
      "execution_count": null,
      "outputs": [
        {
          "output_type": "stream",
          "name": "stdout",
          "text": [
            "Enter a number: 25\n",
            "The number is positive\n"
          ]
        }
      ]
    },
    {
      "cell_type": "code",
      "source": [
        "#Create a program to check if a person is a teenager (between 13 and 19 years old)."
      ],
      "metadata": {
        "id": "i7PiuJud2gAb"
      },
      "execution_count": null,
      "outputs": []
    },
    {
      "cell_type": "code",
      "source": [
        "def is_teenager(age):\n",
        "    if age >= 13 and age <= 19:\n",
        "        return True\n",
        "    else:\n",
        "        return False\n",
        "\n",
        "# Test the function with user input\n",
        "try:\n",
        "    age = int(input(\"Enter the person's age: \"))\n",
        "    if is_teenager(age):\n",
        "        print(\"The person is a teenager.\")\n",
        "    else:\n",
        "        print(\"The person is not a teenager.\")\n",
        "except ValueError:\n",
        "    print(\"Invalid input. Please enter a valid age (an integer).\")\n"
      ],
      "metadata": {
        "colab": {
          "base_uri": "https://localhost:8080/"
        },
        "id": "xu0ujHOR2kgt",
        "outputId": "cbb3b622-7697-42dc-8562-621ed65d59ea"
      },
      "execution_count": null,
      "outputs": [
        {
          "output_type": "stream",
          "name": "stdout",
          "text": [
            "Enter the person's age: 45\n",
            "The person is not a teenager.\n"
          ]
        }
      ]
    },
    {
      "cell_type": "code",
      "source": [
        "#Develop a program that determines the type of angle based on its measure (acute, obtuse, or right)."
      ],
      "metadata": {
        "id": "cpPAEweX2pWl"
      },
      "execution_count": null,
      "outputs": []
    },
    {
      "cell_type": "code",
      "source": [
        "def angle_type(angle):\n",
        "    if angle < 90:\n",
        "        return \"Acute\"\n",
        "    elif angle == 90:\n",
        "        return \"Right\"\n",
        "    else:\n",
        "        return \"Obtuse\"\n",
        "\n",
        "# Test the function with user input\n",
        "try:\n",
        "    angle = float(input(\"Enter the measure of the angle in degrees: \"))\n",
        "    if angle < 0 or angle > 180:\n",
        "        print(\"Invalid angle measure. Please enter a measure between 0 and 180 degrees.\")\n",
        "    else:\n",
        "        angle_classification = angle_type(angle)\n",
        "        print(\"The angle is\", angle_classification)\n",
        "except ValueError:\n",
        "    print(\"Invalid input. Please enter a valid angle measure (a number).\")\n"
      ],
      "metadata": {
        "colab": {
          "base_uri": "https://localhost:8080/"
        },
        "id": "-NWOoDlF2vi4",
        "outputId": "cf1e9360-409b-4c8d-c02e-2c627aee78ee"
      },
      "execution_count": null,
      "outputs": [
        {
          "output_type": "stream",
          "name": "stdout",
          "text": [
            "Enter the measure of the angle in degrees: 75\n",
            "The angle is Acute\n"
          ]
        }
      ]
    },
    {
      "cell_type": "code",
      "source": [
        "#Write a Python program to calculate the roots of a quadratic equation."
      ],
      "metadata": {
        "id": "aZmAkgvM213l"
      },
      "execution_count": null,
      "outputs": []
    },
    {
      "cell_type": "code",
      "source": [
        "import math\n",
        "\n",
        "def quadratic_roots(a, b, c):\n",
        "    discriminant = b**2 - 4*a*c\n",
        "\n",
        "    if discriminant > 0:\n",
        "        root1 = (-b + math.sqrt(discriminant)) / (2*a)\n",
        "        root2 = (-b - math.sqrt(discriminant)) / (2*a)\n",
        "        return root1, root2\n",
        "    elif discriminant == 0:\n",
        "        root = -b / (2*a)\n",
        "        return root, root\n",
        "    else:\n",
        "        real_part = -b / (2*a)\n",
        "        imaginary_part = math.sqrt(abs(discriminant)) / (2*a)\n",
        "        return (real_part + imaginary_part*1j, real_part - imaginary_part*1j)\n",
        "\n",
        "# Test the function with user input\n",
        "try:\n",
        "    a = float(input(\"Enter the coefficient of x^2 (a): \"))\n",
        "    b = float(input(\"Enter the coefficient of x (b): \"))\n",
        "    c = float(input(\"Enter the constant term (c): \"))\n",
        "\n",
        "    if a == 0:\n",
        "        print(\"Invalid input. 'a' must be non-zero to form a quadratic equation.\")\n",
        "    else:\n",
        "        roots = quadratic_roots(a, b, c)\n",
        "        print(\"The roots of the quadratic equation are:\", roots)\n",
        "except ValueError:\n",
        "    print(\"Invalid input. Please enter valid coefficients (numbers).\")\n"
      ],
      "metadata": {
        "colab": {
          "base_uri": "https://localhost:8080/"
        },
        "id": "ra5tXNCD26-8",
        "outputId": "81de8684-034c-4147-8d01-2fcb91879139"
      },
      "execution_count": null,
      "outputs": [
        {
          "output_type": "stream",
          "name": "stdout",
          "text": [
            "Enter the coefficient of x^2 (a): 25\n",
            "Enter the coefficient of x (b): 45\n",
            "Enter the constant term (c): 60\n",
            "The roots of the quadratic equation are: ((-0.9+1.260952021291849j), (-0.9-1.260952021291849j))\n"
          ]
        }
      ]
    },
    {
      "cell_type": "code",
      "source": [
        "#Implement a program to determine the day of the week based on a user-provided number (1 for Monday, 2 for Tuesday, etc.)."
      ],
      "metadata": {
        "id": "x2hoGnsD3DIG"
      },
      "execution_count": null,
      "outputs": []
    },
    {
      "cell_type": "code",
      "source": [
        "def get_day_of_week(number):\n",
        "    days = [\"Monday\", \"Tuesday\", \"Wednesday\", \"Thursday\", \"Friday\", \"Saturday\", \"Sunday\"]\n",
        "    if number >= 1 and number <= 7:\n",
        "        return days[number - 1]\n",
        "    else:\n",
        "        return \"Invalid day number. Please enter a number between 1 and 7.\"\n",
        "\n",
        "# Test the function with user input\n",
        "try:\n",
        "    day_number = int(input(\"Enter a number (1 for Monday, 2 for Tuesday, etc.): \"))\n",
        "    day_of_week = get_day_of_week(day_number)\n",
        "    print(\"The day of the week is:\", day_of_week)\n",
        "except ValueError:\n",
        "    print(\"Invalid input. Please enter a valid number.\")\n"
      ],
      "metadata": {
        "colab": {
          "base_uri": "https://localhost:8080/"
        },
        "id": "45wJBD9R3LjE",
        "outputId": "849235be-6dcb-44d5-b43d-73232ca8eb6f"
      },
      "execution_count": null,
      "outputs": [
        {
          "output_type": "stream",
          "name": "stdout",
          "text": [
            "Enter a number (1 for Monday, 2 for Tuesday, etc.): 5\n",
            "The day of the week is: Friday\n"
          ]
        }
      ]
    },
    {
      "cell_type": "code",
      "source": [
        "#Create a program that determines if a year is a leap year and also if it is evenly divisible by 400."
      ],
      "metadata": {
        "id": "uliB3K_83SXp"
      },
      "execution_count": null,
      "outputs": []
    },
    {
      "cell_type": "code",
      "source": [
        "def is_leap_year(year):\n",
        "    if (year % 4 == 0 and year % 100 != 0) or (year % 400 == 0):\n",
        "        return True\n",
        "    else:\n",
        "        return False\n",
        "\n",
        "# Test the function with user input\n",
        "try:\n",
        "    year = int(input(\"Enter a year: \"))\n",
        "    if year < 0:\n",
        "        print(\"Invalid input. Please enter a positive number.\")\n",
        "    else:\n",
        "        if is_leap_year(year):\n",
        "            print(year, \"is a leap year.\")\n",
        "            if year % 400 == 0:\n",
        "                print(year, \"is evenly divisible by 400.\")\n",
        "            else:\n",
        "                print(year, \"is not evenly divisible by 400.\")\n",
        "        else:\n",
        "            print(year, \"is not a leap year.\")\n",
        "except ValueError:\n",
        "    print(\"Invalid input. Please enter a valid year (an integer).\")\n"
      ],
      "metadata": {
        "colab": {
          "base_uri": "https://localhost:8080/"
        },
        "id": "C2RzuN7k3W1z",
        "outputId": "41e99336-e53b-4771-8ff5-611e5f3a0e04"
      },
      "execution_count": null,
      "outputs": [
        {
          "output_type": "stream",
          "name": "stdout",
          "text": [
            "Enter a year: 2004\n",
            "2004 is a leap year.\n",
            "2004 is not evenly divisible by 400.\n"
          ]
        }
      ]
    },
    {
      "cell_type": "code",
      "source": [
        "#Develop a program that checks if a given number is prime or not using nested if-else statements."
      ],
      "metadata": {
        "id": "fhJif6aR3g6X"
      },
      "execution_count": null,
      "outputs": []
    },
    {
      "cell_type": "code",
      "source": [
        "def is_prime(number):\n",
        "    if number <= 1:\n",
        "        return False\n",
        "    elif number == 2:\n",
        "        return True\n",
        "    else:\n",
        "        # Check if the number is divisible by any integer from 2 to its square root\n",
        "        for i in range(2, int(number ** 0.5) + 1):\n",
        "            if number % i == 0:\n",
        "                return False\n",
        "        return True\n",
        "\n",
        "# Test the function with user input\n",
        "try:\n",
        "    num = int(input(\"Enter a number: \"))\n",
        "    if num < 0:\n",
        "        print(\"Invalid input. Please enter a non-negative integer.\")\n",
        "    elif is_prime(num):\n",
        "        print(num, \"is a prime number.\")\n",
        "    else:\n",
        "        print(num, \"is not a prime number.\")\n",
        "except ValueError:\n",
        "    print(\"Invalid input. Please enter a valid integer.\")\n"
      ],
      "metadata": {
        "colab": {
          "base_uri": "https://localhost:8080/"
        },
        "id": "mVhSRZoi3u6q",
        "outputId": "ebe9ed74-82a7-4037-aee3-1f31440a348a"
      },
      "execution_count": null,
      "outputs": [
        {
          "output_type": "stream",
          "name": "stdout",
          "text": [
            "Enter a number: 25\n",
            "25 is not a prime number.\n"
          ]
        }
      ]
    },
    {
      "cell_type": "code",
      "source": [
        "#Write a Python program to assign grades based on different ranges of scores using elif statements."
      ],
      "metadata": {
        "id": "u3u4p9jp3zbf"
      },
      "execution_count": null,
      "outputs": []
    },
    {
      "cell_type": "code",
      "source": [
        "def assign_grade(score):\n",
        "    if score >= 90:\n",
        "        return \"A\"\n",
        "    elif score >= 80:\n",
        "        return \"B\"\n",
        "    elif score >= 70:\n",
        "        return \"C\"\n",
        "    elif score >= 60:\n",
        "        return \"D\"\n",
        "    else:\n",
        "        return \"F\"\n",
        "\n",
        "# Test the function with multiple scores\n",
        "scores = [85, 92, 78, 63, 45]\n",
        "for score in scores:\n",
        "    grade = assign_grade(score)\n",
        "    print(f\"A score of {score} gets a grade of {grade}\")\n"
      ],
      "metadata": {
        "colab": {
          "base_uri": "https://localhost:8080/"
        },
        "id": "2BkQx9s34J1R",
        "outputId": "04f07e85-3e10-4ad1-e4c9-ea2e1d62b9e8"
      },
      "execution_count": null,
      "outputs": [
        {
          "output_type": "stream",
          "name": "stdout",
          "text": [
            "A score of 85 gets a grade of B\n",
            "A score of 92 gets a grade of A\n",
            "A score of 78 gets a grade of C\n",
            "A score of 63 gets a grade of D\n",
            "A score of 45 gets a grade of F\n"
          ]
        }
      ]
    },
    {
      "cell_type": "code",
      "source": [
        "#Implement a program to determine the type of a triangle based on its angles."
      ],
      "metadata": {
        "id": "2zJJBcyM6V-C"
      },
      "execution_count": null,
      "outputs": []
    },
    {
      "cell_type": "code",
      "source": [
        "def triangle_type(angle1, angle2, angle3):\n",
        "    if angle1 == angle2 == angle3 == 60:\n",
        "        return \"Equilateral\"\n",
        "    elif angle1 == angle2 or angle1 == angle3 or angle2 == angle3:\n",
        "        return \"Isosceles\"\n",
        "    else:\n",
        "        return \"Scalene\"\n",
        "\n",
        "# Test the function with user input\n",
        "try:\n",
        "    angle1 = int(input(\"Enter the measure of the first angle: \"))\n",
        "    angle2 = int(input(\"Enter the measure of the second angle: \"))\n",
        "    angle3 = int(input(\"Enter the measure of the third angle: \"))\n",
        "\n",
        "    if angle1 <= 0 or angle2 <= 0 or angle3 <= 0 or angle1 + angle2 + angle3 != 180:\n",
        "        print(\"Invalid input. The angles must form a valid triangle.\")\n",
        "    else:\n",
        "        triangle = triangle_type(angle1, angle2, angle3)\n",
        "        print(\"The triangle is\", triangle)\n",
        "except ValueError:\n",
        "    print(\"Invalid input. Please enter valid angle measures (integers).\")\n"
      ],
      "metadata": {
        "colab": {
          "base_uri": "https://localhost:8080/"
        },
        "id": "ZyUtkW9G6ZrT",
        "outputId": "95948589-312b-40d0-f113-8d9d79bf7bca"
      },
      "execution_count": null,
      "outputs": [
        {
          "output_type": "stream",
          "name": "stdout",
          "text": [
            "Enter the measure of the first angle: 25\n",
            "Enter the measure of the second angle: 36\n",
            "Enter the measure of the third angle: 15\n",
            "Invalid input. The angles must form a valid triangle.\n"
          ]
        }
      ]
    },
    {
      "cell_type": "code",
      "source": [
        "#Develop a program to categorize a given person's BMI into underweight, normal, overweight, or obese using elif statements."
      ],
      "metadata": {
        "id": "9A9LKFBG6eZT"
      },
      "execution_count": null,
      "outputs": []
    },
    {
      "cell_type": "code",
      "source": [
        "def categorize_bmi(bmi):\n",
        "    if bmi < 18.5:\n",
        "        return \"Underweight\"\n",
        "    elif bmi < 25:\n",
        "        return \"Normal\"\n",
        "    elif bmi < 30:\n",
        "        return \"Overweight\"\n",
        "    else:\n",
        "        return \"Obese\"\n",
        "\n",
        "# Test the function with user input\n",
        "try:\n",
        "    weight = float(input(\"Enter your weight in kilograms: \"))\n",
        "    height = float(input(\"Enter your height in meters: \"))\n",
        "\n",
        "    if weight <= 0 or height <= 0:\n",
        "        print(\"Invalid input. Weight and height must be positive numbers.\")\n",
        "    else:\n",
        "        bmi = weight / (height ** 2)\n",
        "        category = categorize_bmi(bmi)\n",
        "        print(\"Your BMI is:\", bmi)\n",
        "        print(\"Your BMI category is:\", category)\n",
        "except ValueError:\n",
        "    print(\"Invalid input. Please enter valid weight and height (numbers).\")\n"
      ],
      "metadata": {
        "colab": {
          "base_uri": "https://localhost:8080/"
        },
        "id": "rkk3Il9_6wJ_",
        "outputId": "5ae8f80d-89c6-448a-f86f-ef227d7bec2f"
      },
      "execution_count": null,
      "outputs": [
        {
          "output_type": "stream",
          "name": "stdout",
          "text": [
            "Enter your weight in kilograms: 52\n",
            "Enter your height in meters: 5.6\n",
            "Your BMI is: 1.6581632653061227\n",
            "Your BMI category is: Underweight\n"
          ]
        }
      ]
    },
    {
      "cell_type": "code",
      "source": [
        "#Create a program that determines whether a given number is positive, negative, or zero using elif statements."
      ],
      "metadata": {
        "id": "-LevWQw761jN"
      },
      "execution_count": null,
      "outputs": []
    },
    {
      "cell_type": "code",
      "source": [
        "def check_number(num):\n",
        "    if num > 0:\n",
        "        return \"positive\"\n",
        "    elif num < 0:\n",
        "        return \"negative\"\n",
        "    else:\n",
        "        return \"zero\"\n",
        "\n",
        "# Test the function with user input\n",
        "try:\n",
        "    number = float(input(\"Enter a number: \"))\n",
        "    result = check_number(number)\n",
        "    print(f\"The number {number} is {result}.\")\n",
        "except ValueError:\n",
        "    print(\"Invalid input. Please enter a valid number.\")\n"
      ],
      "metadata": {
        "colab": {
          "base_uri": "https://localhost:8080/"
        },
        "id": "KxUV64pU68aO",
        "outputId": "90a94a43-344b-487c-bd92-dd5a42f0621f"
      },
      "execution_count": null,
      "outputs": [
        {
          "output_type": "stream",
          "name": "stdout",
          "text": [
            "Enter a number: 57\n",
            "The number 57.0 is positive.\n"
          ]
        }
      ]
    },
    {
      "cell_type": "code",
      "source": [
        "#Write a Python script to determine the type of a character (uppercase, lowercase, or special) using elif statements."
      ],
      "metadata": {
        "id": "PUIbpcmI7A0Q"
      },
      "execution_count": null,
      "outputs": []
    },
    {
      "cell_type": "code",
      "source": [
        "def char_type(char):\n",
        "    if char.isupper():\n",
        "        return \"uppercase\"\n",
        "    elif char.islower():\n",
        "        return \"lowercase\"\n",
        "    else:\n",
        "        return \"special\"\n",
        "\n",
        "# Test the function with user input\n",
        "try:\n",
        "    character = input(\"Enter a character: \")\n",
        "    if len(character) != 1:\n",
        "        print(\"Invalid input. Please enter a single character.\")\n",
        "    else:\n",
        "        result = char_type(character)\n",
        "        print(f\"The character '{character}' is {result}.\")\n",
        "except ValueError:\n",
        "    print(\"Invalid input. Please enter a valid character.\")\n"
      ],
      "metadata": {
        "colab": {
          "base_uri": "https://localhost:8080/"
        },
        "id": "HduNQAlS7Gc1",
        "outputId": "5c4e878f-120d-4536-e3f2-0faf20e6417e"
      },
      "execution_count": null,
      "outputs": [
        {
          "output_type": "stream",
          "name": "stdout",
          "text": [
            "Enter a character: h\n",
            "The character 'h' is lowercase.\n"
          ]
        }
      ]
    },
    {
      "cell_type": "code",
      "source": [
        "#Implement a program to calculate the discounted price based on different purchase amounts using elif statements."
      ],
      "metadata": {
        "id": "kXBXTQeP7L8x"
      },
      "execution_count": null,
      "outputs": []
    },
    {
      "cell_type": "code",
      "source": [
        "def calculate_discounted_price(amount):\n",
        "    if amount >= 1000:\n",
        "        discount = 0.1  # 10% discount for purchase amount >= 1000\n",
        "    elif amount >= 500:\n",
        "        discount = 0.05  # 5% discount for purchase amount >= 500\n",
        "    elif amount >= 100:\n",
        "        discount = 0.02  # 2% discount for purchase amount >= 100\n",
        "    else:\n",
        "        discount = 0\n",
        "\n",
        "    discounted_price = amount - (amount * discount)\n",
        "    return discounted_price\n",
        "\n",
        "# Test the function with user input\n",
        "try:\n",
        "    purchase_amount = float(input(\"Enter the purchase amount: \"))\n",
        "    if purchase_amount < 0:\n",
        "        print(\"Invalid input. Purchase amount must be a non-negative number.\")\n",
        "    else:\n",
        "        discounted_price = calculate_discounted_price(purchase_amount)\n",
        "        print(\"Discounted price: $\", discounted_price)\n",
        "except ValueError:\n",
        "    print(\"Invalid input. Please enter a valid purchase amount.\")\n"
      ],
      "metadata": {
        "colab": {
          "base_uri": "https://localhost:8080/"
        },
        "id": "VCy0Pxln8u8B",
        "outputId": "3bf3078b-9f5b-43c4-d0f3-8170d83470f5"
      },
      "execution_count": null,
      "outputs": [
        {
          "output_type": "stream",
          "name": "stdout",
          "text": [
            "Enter the purchase amount: 23\n",
            "Discounted price: $ 23.0\n"
          ]
        }
      ]
    },
    {
      "cell_type": "code",
      "source": [
        "#Develop a program to calculate the electricity bill based on different consumption slabs using elif statements."
      ],
      "metadata": {
        "id": "5dqM9xf48vo2"
      },
      "execution_count": null,
      "outputs": []
    },
    {
      "cell_type": "code",
      "source": [
        "def calculate_electricity_bill(units):\n",
        "    if units <= 100:\n",
        "        bill = units * 1.50  # Rate for first 100 units: $1.50 per unit\n",
        "    elif units <= 200:\n",
        "        bill = 100 * 1.50 + (units - 100) * 2.00  # Rate for next 100 units: $2.00 per unit\n",
        "    elif units <= 300:\n",
        "        bill = 100 * 1.50 + 100 * 2.00 + (units - 200) * 3.00  # Rate for next 100 units: $3.00 per unit\n",
        "    else:\n",
        "        bill = 100 * 1.50 + 100 * 2.00 + 100 * 3.00 + (units - 300) * 4.00  # Rate for units above 300: $4.00 per unit\n",
        "\n",
        "    return bill\n",
        "\n",
        "# Test the function with user input\n",
        "try:\n",
        "    units_consumed = float(input(\"Enter the units of electricity consumed: \"))\n",
        "    if units_consumed < 0:\n",
        "        print(\"Invalid input. Units consumed must be a non-negative number.\")\n",
        "    else:\n",
        "        bill_amount = calculate_electricity_bill(units_consumed)\n",
        "        print(\"Electricity bill amount: $\", bill_amount)\n",
        "except ValueError:\n",
        "    print(\"Invalid input. Please enter a valid number of units consumed.\")\n"
      ],
      "metadata": {
        "colab": {
          "base_uri": "https://localhost:8080/"
        },
        "id": "57csvxTS81fi",
        "outputId": "0a3486a2-1086-4e29-d028-754b0b99b84f"
      },
      "execution_count": null,
      "outputs": [
        {
          "output_type": "stream",
          "name": "stdout",
          "text": [
            "Enter the units of electricity consumed: 62\n",
            "Electricity bill amount: $ 93.0\n"
          ]
        }
      ]
    },
    {
      "cell_type": "code",
      "source": [
        "#Create a program to determine the type of quadrilateral based on its angles and sides using elif statements."
      ],
      "metadata": {
        "id": "d1rhq6vn86x8"
      },
      "execution_count": null,
      "outputs": []
    },
    {
      "cell_type": "code",
      "source": [
        "def quadrilateral_type(angle1, angle2, angle3, angle4, side1, side2, side3, side4):\n",
        "    if angle1 == angle2 == angle3 == angle4 == 90:\n",
        "        if side1 == side2 == side3 == side4:\n",
        "            return \"Square\"\n",
        "        elif side1 == side3 and side2 == side4:\n",
        "            return \"Rectangle\"\n",
        "        else:\n",
        "            return \"Parallelogram\"\n",
        "    elif angle1 == angle3 and angle2 == angle4:\n",
        "        if side1 == side3 and side2 == side4:\n",
        "            return \"Rhombus\"\n",
        "        else:\n",
        "            return \"Trapezoid\"\n",
        "    else:\n",
        "        return \"Irregular Quadrilateral\"\n",
        "\n",
        "# Test the function with user input\n",
        "try:\n",
        "    angle1 = float(input(\"Enter the measure of the first angle: \"))\n",
        "    angle2 = float(input(\"Enter the measure of the second angle: \"))\n",
        "    angle3 = float(input(\"Enter the measure of the third angle: \"))\n",
        "    angle4 = float(input(\"Enter the measure of the fourth angle: \"))\n",
        "    side1 = float(input(\"Enter the length of the first side: \"))\n",
        "    side2 = float(input(\"Enter the length of the second side: \"))\n",
        "    side3 = float(input(\"Enter the length of the third side: \"))\n",
        "    side4 = float(input(\"Enter the length of the fourth side: \"))\n",
        "\n",
        "    quad_type = quadrilateral_type(angle1, angle2, angle3, angle4, side1, side2, side3, side4)\n",
        "    print(\"The quadrilateral is:\", quad_type)\n",
        "except ValueError:\n",
        "    print(\"Invalid input. Please enter valid angle measures and side lengths.\")\n"
      ],
      "metadata": {
        "colab": {
          "base_uri": "https://localhost:8080/"
        },
        "id": "m5kAz71s9BVc",
        "outputId": "51f961f7-51c1-466a-d6d1-e45c0e432681"
      },
      "execution_count": null,
      "outputs": [
        {
          "output_type": "stream",
          "name": "stdout",
          "text": [
            "Enter the measure of the first angle: 36\n",
            "Enter the measure of the second angle: 56\n",
            "Enter the measure of the third angle: 85\n",
            "Enter the measure of the fourth angle: 54\n",
            "Enter the length of the first side: 65\n",
            "Enter the length of the second side: 25\n",
            "Enter the length of the third side: 18\n",
            "Enter the length of the fourth side: 95\n",
            "The quadrilateral is: Irregular Quadrilateral\n"
          ]
        }
      ]
    },
    {
      "cell_type": "code",
      "source": [
        "#Write a Python script to determine the season based on a user-provided month using elif statements."
      ],
      "metadata": {
        "id": "TuGMBS8j9HzM"
      },
      "execution_count": null,
      "outputs": []
    },
    {
      "cell_type": "code",
      "source": [
        "def determine_season(month):\n",
        "    if month in [3, 4, 5]:\n",
        "        return \"Spring\"\n",
        "    elif month in [6, 7, 8]:\n",
        "        return \"Summer\"\n",
        "    elif month in [9, 10, 11]:\n",
        "        return \"Autumn\"\n",
        "    elif month in [12, 1, 2]:\n",
        "        return \"Winter\"\n",
        "    else:\n",
        "        return \"Invalid month\"\n",
        "\n",
        "# Test the function with user input\n",
        "try:\n",
        "    month = int(input(\"Enter the month (1-12): \"))\n",
        "    if 1 <= month <= 12:\n",
        "        season = determine_season(month)\n",
        "        print(\"The season for month\", month, \"is\", season)\n",
        "    else:\n",
        "        print(\"Invalid month. Please enter a number between 1 and 12.\")\n",
        "except ValueError:\n",
        "    print(\"Invalid input. Please enter a valid month (an integer).\")\n"
      ],
      "metadata": {
        "colab": {
          "base_uri": "https://localhost:8080/"
        },
        "id": "tU_vof1S9TeZ",
        "outputId": "9947be72-5e27-4771-9325-b716670d2361"
      },
      "execution_count": null,
      "outputs": [
        {
          "output_type": "stream",
          "name": "stdout",
          "text": [
            "Enter the month (1-12): 5\n",
            "The season for month 5 is Spring\n"
          ]
        }
      ]
    },
    {
      "cell_type": "code",
      "source": [
        "#Implement a program to determine the type of a year (leap or common) and month (30 or 31 days) using elif statements."
      ],
      "metadata": {
        "id": "6pE63Gdy9Y6E"
      },
      "execution_count": null,
      "outputs": []
    },
    {
      "cell_type": "code",
      "source": [
        "def is_leap_year(year):\n",
        "    if (year % 4 == 0 and year % 100 != 0) or (year % 400 == 0):\n",
        "        return True\n",
        "    else:\n",
        "        return False\n",
        "\n",
        "def days_in_month(month, year):\n",
        "    if month in [1, 3, 5, 7, 8, 10, 12]:\n",
        "        return 31\n",
        "    elif month in [4, 6, 9, 11]:\n",
        "        return 30\n",
        "    elif month == 2:\n",
        "        if is_leap_year(year):\n",
        "            return 29\n",
        "        else:\n",
        "            return 28\n",
        "    else:\n",
        "        return \"Invalid month\"\n",
        "\n",
        "# Test the function with user input\n",
        "try:\n",
        "    month = int(input(\"Enter the month (1-12): \"))\n",
        "    year = int(input(\"Enter the year: \"))\n",
        "\n",
        "    if 1 <= month <= 12:\n",
        "        days = days_in_month(month, year)\n",
        "        if days == \"Invalid month\":\n",
        "            print(\"Invalid month. Please enter a number between 1 and 12.\")\n",
        "        else:\n",
        "            print(f\"The month {month} of year {year} has {days} days.\")\n",
        "    else:\n",
        "        print(\"Invalid month. Please enter a number between 1 and 12.\")\n",
        "except ValueError:\n",
        "    print(\"Invalid input. Please enter valid month and year (integers).\")\n"
      ],
      "metadata": {
        "colab": {
          "base_uri": "https://localhost:8080/"
        },
        "id": "HZefHifM9fSk",
        "outputId": "958a7b57-79f5-4b16-aea8-0d44f44c3f2a"
      },
      "execution_count": null,
      "outputs": [
        {
          "output_type": "stream",
          "name": "stdout",
          "text": [
            "Enter the month (1-12): 6\n",
            "Enter the year: 2024\n",
            "The month 6 of year 2024 has 30 days.\n"
          ]
        }
      ]
    },
    {
      "cell_type": "code",
      "source": [
        "#Create a program that validates a password based on complexity rules (length, characters, etc.)."
      ],
      "metadata": {
        "id": "wKndm-wJ9lKJ"
      },
      "execution_count": 1,
      "outputs": []
    },
    {
      "cell_type": "code",
      "source": [
        "import re\n",
        "\n",
        "def validate_password(password):\n",
        "    # Check length\n",
        "    if len(password) < 8:\n",
        "        return False, \"Password must be at least 8 characters long.\"\n",
        "\n",
        "    # Check for uppercase, lowercase, digit, and special character\n",
        "    if not re.search(r'[A-Z]', password):\n",
        "        return False, \"Password must contain at least one uppercase letter.\"\n",
        "    if not re.search(r'[a-z]', password):\n",
        "        return False, \"Password must contain at least one lowercase letter.\"\n",
        "    if not re.search(r'[0-9]', password):\n",
        "        return False, \"Password must contain at least one digit.\"\n",
        "    if not re.search(r'[!@#$%^&*()-_=+{};:,<.>/?]', password):\n",
        "        return False, \"Password must contain at least one special character.\"\n",
        "\n",
        "    return True, \"Password is valid.\"\n",
        "\n",
        "def main():\n",
        "    password = input(\"Enter your password: \")\n",
        "    is_valid, message = validate_password(password)\n",
        "    if is_valid:\n",
        "        print(\"Congratulations! Your password is valid.\")\n",
        "    else:\n",
        "        print(\"Invalid password:\", message)\n",
        "\n",
        "if __name__ == \"__main__\":\n",
        "    main()\n"
      ],
      "metadata": {
        "colab": {
          "base_uri": "https://localhost:8080/"
        },
        "id": "eQ0a0appJ3nQ",
        "outputId": "ddbb9b1d-0394-4798-ff7e-687138dbce65"
      },
      "execution_count": 3,
      "outputs": [
        {
          "output_type": "stream",
          "name": "stdout",
          "text": [
            "Enter your password: gatorcahs\n",
            "Invalid password: Password must contain at least one uppercase letter.\n"
          ]
        }
      ]
    },
    {
      "cell_type": "code",
      "source": [
        "#Develop a program that performs matrix addition and subtraction based on user input."
      ],
      "metadata": {
        "id": "uTzizTR6J-FA"
      },
      "execution_count": 4,
      "outputs": []
    },
    {
      "cell_type": "code",
      "source": [
        "def matrix_addition(matrix1, matrix2):\n",
        "    if len(matrix1) != len(matrix2) or len(matrix1[0]) != len(matrix2[0]):\n",
        "        return None  # Matrices must have the same dimensions for addition\n",
        "\n",
        "    result = []\n",
        "    for i in range(len(matrix1)):\n",
        "        row = []\n",
        "        for j in range(len(matrix1[0])):\n",
        "            row.append(matrix1[i][j] + matrix2[i][j])\n",
        "        result.append(row)\n",
        "    return result\n",
        "\n",
        "def matrix_subtraction(matrix1, matrix2):\n",
        "    if len(matrix1) != len(matrix2) or len(matrix1[0]) != len(matrix2[0]):\n",
        "        return None  # Matrices must have the same dimensions for subtraction\n",
        "\n",
        "    result = []\n",
        "    for i in range(len(matrix1)):\n",
        "        row = []\n",
        "        for j in range(len(matrix1[0])):\n",
        "            row.append(matrix1[i][j] - matrix2[i][j])\n",
        "        result.append(row)\n",
        "    return result\n",
        "\n",
        "def input_matrix(rows, cols):\n",
        "    matrix = []\n",
        "    for i in range(rows):\n",
        "        row = []\n",
        "        for j in range(cols):\n",
        "            element = float(input(f\"Enter element at position ({i + 1}, {j + 1}): \"))\n",
        "            row.append(element)\n",
        "        matrix.append(row)\n",
        "    return matrix\n",
        "\n",
        "def print_matrix(matrix):\n",
        "    for row in matrix:\n",
        "        print(row)\n",
        "\n",
        "def main():\n",
        "    rows = int(input(\"Enter the number of rows in the matrices: \"))\n",
        "    cols = int(input(\"Enter the number of columns in the matrices: \"))\n",
        "\n",
        "    print(\"Enter elements for the first matrix:\")\n",
        "    matri\n"
      ],
      "metadata": {
        "id": "HaFcWvWAKMCn"
      },
      "execution_count": 5,
      "outputs": []
    },
    {
      "cell_type": "code",
      "source": [
        "#Write a program that calculates the greatest common divisor (GCD) of two numbers using the Euclidean algorithm."
      ],
      "metadata": {
        "id": "s6FhVAagKQ2I"
      },
      "execution_count": 7,
      "outputs": []
    },
    {
      "cell_type": "code",
      "source": [
        "def euclidean_gcd(a, b):\n",
        "    while b != 0:\n",
        "        a, b = b, a % b\n",
        "    return a\n",
        "\n",
        "def main():\n",
        "    try:\n",
        "        num1 = int(input(\"Enter the first number: \"))\n",
        "        num2 = int(input(\"Enter the second number: \"))\n",
        "\n",
        "        gcd = euclidean_gcd(num1, num2)\n",
        "        print(\"The greatest common divisor (GCD) of\", num1, \"and\", num2, \"is:\", gcd)\n",
        "    except ValueError:\n",
        "        print(\"Invalid input! Please enter valid integers.\")\n",
        "\n",
        "if __name__ == \"__main__\":\n",
        "    main()\n"
      ],
      "metadata": {
        "colab": {
          "base_uri": "https://localhost:8080/"
        },
        "id": "R8UoBveRKUQf",
        "outputId": "c9209cd4-34be-42da-8772-62ac10c55aff"
      },
      "execution_count": 8,
      "outputs": [
        {
          "output_type": "stream",
          "name": "stdout",
          "text": [
            "Enter the first number: 5\n",
            "Enter the second number: 6\n",
            "The greatest common divisor (GCD) of 5 and 6 is: 1\n"
          ]
        }
      ]
    },
    {
      "cell_type": "code",
      "source": [
        "#Build a program that performs matrix multiplication using nested loops and conditional statements."
      ],
      "metadata": {
        "id": "2656wGm0KaVn"
      },
      "execution_count": 9,
      "outputs": []
    },
    {
      "cell_type": "code",
      "source": [
        "def matrix_multiplication(matrix1, matrix2):\n",
        "    if len(matrix1[0]) != len(matrix2):\n",
        "        return None  # Matrices cannot be multiplied if the number of columns in the first matrix is not equal to the number of rows in the second matrix\n",
        "\n",
        "    result = []\n",
        "    for i in range(len(matrix1)):\n",
        "        row = []\n",
        "        for j in range(len(matrix2[0])):\n",
        "            total = 0\n",
        "            for k in range(len(matrix2)):\n",
        "                total += matrix1[i][k] * matrix2[k][j]\n",
        "            row.append(total)\n",
        "        result.append(row)\n",
        "    return result\n",
        "\n",
        "def input_matrix(rows, cols):\n",
        "    matrix = []\n",
        "    for i in range(rows):\n",
        "        row = []\n",
        "        for j in range(cols):\n",
        "            element = float(input(f\"Enter element at position ({i + 1}, {j + 1}): \"))\n",
        "            row.append(element)\n",
        "        matrix.append(row)\n",
        "    return matrix\n",
        "\n",
        "def print_matrix(matrix):\n",
        "    for row in matrix:\n",
        "        print(row)\n",
        "\n",
        "def main():\n",
        "    rows1 = int(input(\"Enter the number of rows in the first matrix: \"))\n",
        "    cols1 = int(input(\"Enter the number of columns in the first matrix: \"))\n",
        "\n",
        "    print(\"Enter elements for the first matrix:\")\n",
        "    matrix1 = input_matrix(rows1, cols1)\n",
        "\n",
        "    rows2 = int(input(\"Enter the number of rows in the second matrix: \"))\n",
        "    cols2 = int(input(\"Enter the number of columns in the second matrix: \"))\n",
        "\n",
        "    print(\"Enter elements for the second matrix:\")\n",
        "    matrix2 = input_matrix(rows2, cols2)\n",
        "\n",
        "    print(\"Matrix 1:\")\n",
        "    print_matrix(matrix1)\n",
        "\n",
        "    print(\"Matrix 2:\")\n",
        "    print_matrix(matrix2)\n",
        "\n",
        "    product = matrix_multiplication(matrix1, matrix2)\n",
        "    if product:\n",
        "        print(\"Matrix Multiplication:\")\n",
        "        print_matrix(product)\n",
        "    else:\n",
        "        print(\"Matrices cannot be multiplied. Invalid dimensions.\")\n",
        "\n",
        "if __name__ == \"__main__\":\n",
        "    main()\n"
      ],
      "metadata": {
        "id": "yfELyNWnKfyP"
      },
      "execution_count": null,
      "outputs": []
    },
    {
      "cell_type": "code",
      "source": [
        "#Create a program that simulates a basic text-based tic-tac-toe game against the computer."
      ],
      "metadata": {
        "id": "zh6HRkYtKmrh"
      },
      "execution_count": null,
      "outputs": []
    },
    {
      "cell_type": "code",
      "source": [
        "import random\n",
        "\n",
        "def print_board(board):\n",
        "    for row in board:\n",
        "        print(\" | \".join(row))\n",
        "        print(\"-\" * 5)\n",
        "\n",
        "def check_winner(board):\n",
        "    # Check rows\n",
        "    for row in board:\n",
        "        if row.count(row[0]) == len(row) and row[0] != \" \":\n",
        "            return True\n",
        "\n",
        "    # Check columns\n",
        "    for col in range(len(board[0])):\n",
        "        if board[0][col] == board[1][col] == board[2][col] and board[0][col] != \" \":\n",
        "            return True\n",
        "\n",
        "    # Check diagonals\n",
        "    if board[0][0] == board[1][1] == board[2][2] and board[0][0] != \" \":\n",
        "        return True\n",
        "    if board[0][2] == board[1][1] == board[2][0] and board[0][2] != \" \":\n",
        "        return True\n",
        "\n",
        "    return False\n",
        "\n",
        "def is_board_full(board):\n",
        "    for row in board:\n",
        "        if \" \" in row:\n",
        "            return False\n",
        "    return True\n",
        "\n",
        "def get_empty_cells(board):\n",
        "    empty_cells = []\n",
        "    for i in range(3):\n",
        "        for j in range(3):\n",
        "            if board[i][j] == \" \":\n",
        "                empty_cells.append((i, j))\n",
        "    return empty_cells\n",
        "\n",
        "def player_move(board):\n",
        "    while True:\n",
        "        try:\n",
        "            row = int(input(\"Enter row number (1, 2, 3): \")) - 1\n",
        "            col = int(input(\"Enter column number (1, 2, 3): \")) - 1\n",
        "            if 0 <= row < 3 and 0 <= col < 3 and board[row][col] == \" \":\n",
        "                return row, col\n",
        "            else:\n",
        "                print(\"Invalid move. Try again.\")\n",
        "        except ValueError:\n",
        "            print(\"Invalid input. Please enter a number.\")\n",
        "\n",
        "def computer_move(board):\n",
        "    empty_cells = get_empty_cells(board)\n",
        "    return random.choice(empty_cells)\n",
        "\n",
        "def main():\n",
        "    board = [[\" \" for _ in range(3)] for _ in range(3)]\n",
        "    print(\"Welcome to Tic-Tac-Toe!\")\n",
        "\n",
        "    while True:\n",
        "        print_board(board)\n",
        "\n",
        "        # Player's move\n",
        "        player_row, player_col = player_move(board)\n",
        "        board[player_row][player_col] = \"X\"\n",
        "\n",
        "        if check_winner(board):\n",
        "            print(\"Congratulations! You won!\")\n",
        "            break\n",
        "        if is_board_full(board):\n",
        "            print(\"It's a draw!\")\n",
        "            break\n",
        "\n",
        "        # Computer's move\n",
        "        print(\"Computer's turn...\")\n",
        "        computer_row, computer_col = computer_move(board)\n",
        "        board[computer_row][computer_col] = \"O\"\n",
        "\n",
        "        if check_winner(board):\n",
        "            print(\"Computer wins!\")\n",
        "            break\n",
        "        if is_board_full(board):\n",
        "            print(\"It's a draw!\")\n",
        "            break\n",
        "\n",
        "if __name__ == \"__main__\":\n",
        "    main()\n"
      ],
      "metadata": {
        "id": "Uf_IUzPeLLRa"
      },
      "execution_count": null,
      "outputs": []
    },
    {
      "cell_type": "code",
      "source": [
        "#Write a program that generates Fibonacci numbers up to a specified term using iterative methods."
      ],
      "metadata": {
        "id": "6OCkZHLvLUZr"
      },
      "execution_count": null,
      "outputs": []
    },
    {
      "cell_type": "code",
      "source": [
        "def generate_fibonacci(n):\n",
        "    fibonacci_sequence = [0, 1]\n",
        "    if n <= 1:\n",
        "        return fibonacci_sequence[:n+1]\n",
        "\n",
        "    while len(fibonacci_sequence) <= n:\n",
        "        next_fibonacci = fibonacci_sequence[-1] + fibonacci_sequence[-2]\n",
        "        fibonacci_sequence.append(next_fibonacci)\n",
        "\n",
        "    return fibonacci_sequence\n",
        "\n",
        "def main():\n",
        "    try:\n",
        "        term = int(input(\"Enter the number of Fibonacci terms to generate: \"))\n",
        "        if term < 0:\n",
        "            print(\"Please enter a non-negative integer.\")\n",
        "            return\n",
        "        fibonacci_sequence = generate_fibonacci(term)\n",
        "        print(\"Fibonacci Sequence up to term\", term, \":\")\n",
        "        print(fibonacci_sequence)\n",
        "    except ValueError:\n",
        "        print(\"Invalid input! Please enter a valid integer.\")\n",
        "\n",
        "if __name__ == \"__main__\":\n",
        "    main()\n"
      ],
      "metadata": {
        "id": "c1lbPCnYLeAi"
      },
      "execution_count": null,
      "outputs": []
    },
    {
      "cell_type": "code",
      "source": [
        "#Develop a program that calculates the nth term of the Fibonacci sequence using memoization."
      ],
      "metadata": {
        "id": "hayQypkKLjXU"
      },
      "execution_count": null,
      "outputs": []
    },
    {
      "cell_type": "code",
      "source": [
        "def fibonacci(n, memo={}):\n",
        "    if n in memo:\n",
        "        return memo[n]\n",
        "    if n <= 1:\n",
        "        return n\n",
        "    memo[n] = fibonacci(n - 1, memo) + fibonacci(n - 2, memo)\n",
        "    return memo[n]\n",
        "\n",
        "def main():\n",
        "    try:\n",
        "        term = int(input(\"Enter the term of the Fibonacci sequence to calculate: \"))\n",
        "        if term < 0:\n",
        "            print(\"Please enter a non-negative integer.\")\n",
        "            return\n",
        "        result = fibonacci(term)\n",
        "        print(f\"The {term}th term of the Fibonacci sequence is:\", result)\n",
        "    except ValueError:\n",
        "        print(\"Invalid input! Please enter a valid integer.\")\n",
        "\n",
        "if __name__ == \"__main__\":\n",
        "    main()\n"
      ],
      "metadata": {
        "id": "7hmlQcl-Loky"
      },
      "execution_count": null,
      "outputs": []
    },
    {
      "cell_type": "code",
      "source": [
        "#Create a program that generates a calendar for a given month and year using conditional statements."
      ],
      "metadata": {
        "id": "6_lQvF5kLs2s"
      },
      "execution_count": null,
      "outputs": []
    },
    {
      "cell_type": "code",
      "source": [
        "import calendar\n",
        "\n",
        "def generate_calendar(month, year):\n",
        "    # Determine the starting day and number of days in the month\n",
        "    starting_day, num_days = calendar.monthrange(year, month)\n",
        "\n",
        "    # Print the header\n",
        "    print(calendar.month_name[month], year)\n",
        "    print(\"Mo Tu We Th Fr Sa Su\")\n",
        "\n",
        "    # Print the calendar\n",
        "    current_day = 1\n",
        "    for _ in range(starting_day):\n",
        "        print(\"   \", end=\" \")\n",
        "    for _ in range(1, num_days + 1):\n",
        "        print(f\"{_:{2}} \", end=\" \" if (_ + starting_day) % 7 else \"\\n\")\n",
        "    print(\"\\n\")\n",
        "\n",
        "def main():\n",
        "    try:\n",
        "        year = int(input(\"Enter the year: \"))\n",
        "        month = int(input(\"Enter the month (1-12): \"))\n",
        "        if 1 <= month <= 12:\n",
        "            generate_calendar(month, year)\n",
        "        else:\n",
        "            print(\"Invalid month! Please enter a number between 1 and 12.\")\n",
        "    except ValueError:\n",
        "        print(\"Invalid input! Please enter valid integers.\")\n",
        "\n",
        "if __name__ == \"__main__\":\n",
        "    main()\n"
      ],
      "metadata": {
        "id": "sKD5OcfDLvyU"
      },
      "execution_count": null,
      "outputs": []
    },
    {
      "cell_type": "code",
      "source": [
        "#Build a program that simulates a basic text-based blackjack game against the computer."
      ],
      "metadata": {
        "id": "WY1ryS1yL1LQ"
      },
      "execution_count": null,
      "outputs": []
    },
    {
      "cell_type": "code",
      "source": [
        "import random\n",
        "\n",
        "def deal_card():\n",
        "    \"\"\"Return a random card from the deck.\"\"\"\n",
        "    cards = [2, 3, 4, 5, 6, 7, 8, 9, 10, 10, 10, 10, 11]\n",
        "    return random.choice(cards)\n",
        "\n",
        "def calculate_score(cards):\n",
        "    \"\"\"Take a list of cards and return the score calculated from the cards.\"\"\"\n",
        "    # Check for a blackjack (a hand with only 2 cards: Ace + 10) and return 0\n",
        "    if len(cards) == 2 and sum(cards) == 21:\n",
        "        return 0\n",
        "\n",
        "    # Calculate score of hand\n",
        "    score = sum(cards)\n",
        "\n",
        "    # Convert Aces from 11 to 1, if the score is over 21\n",
        "    if 11 in cards and score > 21:\n",
        "        cards.remove(11)\n",
        "        cards.append(1)\n",
        "        score = sum(cards)\n",
        "\n",
        "    return score\n",
        "\n",
        "def compare(user_score, computer_score):\n",
        "    \"\"\"Compare the user's and computer's scores and return the result.\"\"\"\n",
        "    if user_score == computer_score:\n",
        "        return \"It's a draw!\"\n",
        "    elif computer_score == 0:\n",
        "        return \"Computer has a Blackjack! You lose.\"\n",
        "    elif user_score == 0:\n",
        "        return \"You have a Blackjack! You win.\"\n",
        "    elif user_score > 21:\n",
        "        return \"You went over. You lose.\"\n",
        "    elif computer_score > 21:\n",
        "        return \"Computer went over. You win.\"\n",
        "    elif user_score > computer_score:\n",
        "        return \"You win!\"\n",
        "    else:\n",
        "        return \"You lose.\"\n",
        "\n",
        "def play_blackjack():\n",
        "    \"\"\"Play a game of Blackjack.\"\"\"\n",
        "    user_cards = []\n",
        "    computer_cards = []\n",
        "\n",
        "    # Deal initial cards\n",
        "    for _ in range(2):\n",
        "        user_cards.append(deal_card())\n",
        "        computer_cards.append(deal_card())\n",
        "\n",
        "    game_over = False\n",
        "\n",
        "    while not game_over:\n",
        "        user_score = calculate_score(user_cards)\n",
        "        computer_score = calculate_score(computer_cards)\n",
        "\n",
        "        print(f\"Your cards: {user_cards}, current score: {user_score}\")\n",
        "        print(f\"Computer's first card: {computer_cards[0]}\")\n",
        "\n",
        "        if user_score == 0 or computer_score == 0 or user_score > 21:\n",
        "            game_over = True\n",
        "        else:\n",
        "            action = input(\"Type 'hit' to get another card, or 'stand' to pass: \").lower()\n",
        "            if action == 'hit':\n",
        "                user_cards.append(deal_card())\n",
        "            elif action == 'stand':\n",
        "                game_over = True\n",
        "            else:\n",
        "                print(\"Invalid input. Please type 'hit' or 'stand'.\")\n",
        "\n",
        "    # Computer's turn\n",
        "    while computer_score != 0 and computer_score < 17:\n",
        "        computer_cards.append(deal_card())\n",
        "        computer_score = calculate_score(computer_cards)\n",
        "\n",
        "    print(f\"Your final hand: {user_cards}, final score: {user_score}\")\n",
        "    print(f\"Computer's final hand: {computer_cards}, final score: {computer_score}\")\n",
        "    print(compare(user_score, computer_score))\n",
        "\n",
        "def main():\n",
        "    print(\"Welcome to Blackjack!\")\n",
        "    while input(\"Do you want to play a game of Blackjack? Type 'yes' or 'no': \").lower() == 'yes':\n",
        "        play_blackjack()\n",
        "\n",
        "if __name__ == \"__main__\":\n",
        "    main()\n"
      ],
      "metadata": {
        "id": "ZYWUcMopL5G7"
      },
      "execution_count": null,
      "outputs": []
    },
    {
      "cell_type": "code",
      "source": [
        "#Write a program that generates the prime factors of a given number using trial division."
      ],
      "metadata": {
        "id": "Bhz2IKb4MAUf"
      },
      "execution_count": null,
      "outputs": []
    },
    {
      "cell_type": "code",
      "source": [
        "def prime_factors(n):\n",
        "    factors = []\n",
        "    divisor = 2\n",
        "\n",
        "    while n > 1:\n",
        "        while n % divisor == 0:\n",
        "            factors.append(divisor)\n",
        "            n //= divisor\n",
        "        divisor += 1\n",
        "\n",
        "    return factors\n",
        "\n",
        "def main():\n",
        "    try:\n",
        "        num = int(input(\"Enter a number to find its prime factors: \"))\n",
        "        if num <= 0:\n",
        "            print(\"Please enter a positive integer.\")\n",
        "            return\n",
        "        factors = prime_factors(num)\n",
        "        if len(factors) == 1:\n",
        "            print(f\"The number {num} is a prime number.\")\n",
        "        else:\n",
        "            print(f\"The prime factors of {num} are:\", factors)\n",
        "    except ValueError:\n",
        "        print(\"Invalid input! Please enter a valid integer.\")\n",
        "\n",
        "if __name__ == \"__main__\":\n",
        "    main()\n"
      ],
      "metadata": {
        "id": "G2RHHC5nMG4j"
      },
      "execution_count": null,
      "outputs": []
    }
  ]
}